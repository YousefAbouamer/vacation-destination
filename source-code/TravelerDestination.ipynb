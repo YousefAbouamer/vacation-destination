{
 "cells": [
  {
   "cell_type": "code",
   "execution_count": 23,
   "metadata": {},
   "outputs": [],
   "source": [
    "import requests\n",
    "import ast\n",
    "import nltk\n",
    "from nltk import wordpunct_tokenize\n",
    "from nltk.stem import PorterStemmer\n",
    "from nltk.corpus import stopwords\n",
    "import pandas as pd\n",
    "import numpy as np"
   ]
  },
  {
   "cell_type": "code",
   "execution_count": 4,
   "metadata": {},
   "outputs": [
    {
     "name": "stderr",
     "output_type": "stream",
     "text": [
      "[nltk_data] Downloading package stopwords to\n",
      "[nltk_data]     C:\\Users\\ajita\\AppData\\Roaming\\nltk_data...\n",
      "[nltk_data]   Package stopwords is already up-to-date!\n"
     ]
    },
    {
     "data": {
      "text/plain": [
       "True"
      ]
     },
     "execution_count": 4,
     "metadata": {},
     "output_type": "execute_result"
    }
   ],
   "source": [
    "# if stopwords fails make sure it's been downloaded\n",
    "nltk.download('stopwords')"
   ]
  },
  {
   "cell_type": "code",
   "execution_count": 5,
   "metadata": {},
   "outputs": [],
   "source": [
    "def tokenize_str(string, tok_method, stemmer, stops):\n",
    "#     print('haha1')\n",
    "    toks = tok_method(string)\n",
    "    toks = [w for w in toks if w not in stops]\n",
    "    toks = [stemmer.stem(w) for w in toks]\n",
    "    toks = [w.lower() for w in toks if w.isalpha()]\n",
    "    return toks"
   ]
  },
  {
   "cell_type": "code",
   "execution_count": 6,
   "metadata": {},
   "outputs": [],
   "source": [
    "def city_word_indices(df, tok_method, stemmer, stops):\n",
    "    desc = df['Description']\n",
    "    all_toks = set()\n",
    "    n_rows = len(desc)\n",
    "    city_word_dic = {}\n",
    "    for i in range(n_rows):\n",
    "        toks = tokenize_str(desc[i], wordpunct_tokenize, stemmer, stops)\n",
    "        tokset = toks\n",
    "        all_toks = all_toks.union(tokset)\n",
    "        city_word_dic[df['City'][i]] = toks\n",
    "    all_toks = list(all_toks)\n",
    "    all_toks.sort()\n",
    "    cities = df['City'].tolist()\n",
    "    cities.sort()\n",
    "#     city_index = dict(zip(cities, list(range(n_rows))))\n",
    "#     print(city_index)\n",
    "    city_rev_index = dict(zip(list(range(n_rows)), cities))\n",
    "#     print(city_rev_index)\n",
    "    city_index = dict([(value, key) for key, value in city_rev_index.items()])\n",
    "    word_index = dict(zip(all_toks, list(range(len(all_toks)))))\n",
    "#     print(city_index)\n",
    "    return city_index, city_rev_index, word_index, city_word_dic"
   ]
  },
  {
   "cell_type": "code",
   "execution_count": 44,
   "metadata": {},
   "outputs": [],
   "source": [
    "# construct term-doc matrix\n",
    "def td_matrix(df, city_index, city_rev_index, word_index, city_word_dic):\n",
    "    num_cities=len(city_rev_index)\n",
    "    num_words=len(word_index)\n",
    "    td_matrix = np.zeros(shape=(num_cities, num_words), dtype=np.float16)\n",
    "    cities = df['City'].tolist()\n",
    "    for city in cities:\n",
    "        for word in city_word_dic[city]:\n",
    "#             print(city, word)\n",
    "            td_matrix[city_index[city]][word_index[word]] += 1\n",
    "    td_matrix = ((td_matrix.T+1) / np.linalg.norm(td_matrix+1, axis=1)).T\n",
    "    return td_matrix"
   ]
  },
  {
   "cell_type": "code",
   "execution_count": 45,
   "metadata": {},
   "outputs": [],
   "source": [
    "def process_query(query, td_matrix, city_rev_index, tok_method, stemmer, stops, num_results=5):\n",
    "    query = tokenize_str(query, tok_method, stemmer, stops)\n",
    "    qvec = np.zeros(td_matrix.shape[1], dtype=np.float16)\n",
    "    for word in query:\n",
    "        if word in word_index:\n",
    "            qvec[word_index[word]] += 1\n",
    "    qvec = (qvec)/ np.linalg.norm(qvec+1)\n",
    "    sim = td_mat @ qvec\n",
    "    top_k = (-sim).argsort()[:num_results]\n",
    "    top_k = [city_rev_index[k] for k in top_k]\n",
    "    return top_k "
   ]
  },
  {
   "cell_type": "code",
   "execution_count": 58,
   "metadata": {},
   "outputs": [],
   "source": [
    "# construct data\n",
    "# df = pd.read_csv('api_data_1_2_mil.csv', names=['City', 'Longitude', 'Latitude', 'Ratings', \n",
    "#                                          'ObjectNames', 'Description'])\n",
    "files = ['api_data_usacomp.csv', 'api_data_5+mil.csv']#, 'api_data_2_5_mil.csv', 'api_data_1_2_mil.csv']\n",
    "#         'api_data_250_500k.csv', 'api_data_100_250k.csv']\n",
    "df = pd.DataFrame()\n",
    "for file in files:\n",
    "    data = pd.read_csv(file, names=['City', 'Longitude', 'Latitude', 'Ratings', \n",
    "                                         'ObjectNames', 'Description'])\n",
    "    df = pd.concat([df, data], axis=0)\n",
    "\n",
    "df = df[df['Description'] != '[]']\n",
    "df.reset_index(inplace=True)\n",
    "stops = set(stopwords.words('english'))\n",
    "ps = PorterStemmer()\n",
    "\n",
    "city_index, city_rev_index, word_index, city_word_dic = city_word_indices(df, wordpunct_tokenize, ps, stops)\n",
    "td_mat = td_matrix(df, city_index, city_rev_index, word_index, city_word_dic)"
   ]
  },
  {
   "cell_type": "code",
   "execution_count": 59,
   "metadata": {},
   "outputs": [
    {
     "name": "stdout",
     "output_type": "stream",
     "text": [
      "Type a query: temples\n",
      "Your ranked destinations:\n",
      "Pune - Top Attractions: Shaniwar Wada Amphitheatre\n",
      "Suzhou - Top Attractions: Temple of Confucius\n",
      "Guangyuan - Top Attractions: Huangze Temple\n",
      "Foshan - Top Attractions: Foshan Ancestral Temple\n",
      "Amman - Top Attractions: The Duke's Diwan\n"
     ]
    }
   ],
   "source": [
    "# driver code\n",
    "query = input(\"Type a query: \")\n",
    "top_5 = process_query(query, td_mat, city_rev_index, wordpunct_tokenize, ps, stops)\n",
    "print(\"Your ranked destinations:\")\n",
    "for i in top_5:\n",
    "    objects_str = df[df['City'] == i].reset_index()['ObjectNames'][0]\n",
    "    descr_str = df[df['City'] == i].reset_index()['Description'][0]\n",
    "    ratings_str = df[df['City'] == i].reset_index()['Ratings'][0]\n",
    "    objects = ast.literal_eval(objects_str)\n",
    "    descriptions = ast.literal_eval(descr_str)\n",
    "    ratings = ast.literal_eval(ratings_str)\n",
    "    print(i, '- Top Attractions:', objects[np.argmax(ratings)])"
   ]
  },
  {
   "cell_type": "code",
   "execution_count": null,
   "metadata": {},
   "outputs": [],
   "source": []
  },
  {
   "cell_type": "code",
   "execution_count": null,
   "metadata": {},
   "outputs": [],
   "source": []
  }
 ],
 "metadata": {
  "kernelspec": {
   "display_name": "Python 3",
   "language": "python",
   "name": "python3"
  },
  "language_info": {
   "codemirror_mode": {
    "name": "ipython",
    "version": 3
   },
   "file_extension": ".py",
   "mimetype": "text/x-python",
   "name": "python",
   "nbconvert_exporter": "python",
   "pygments_lexer": "ipython3",
   "version": "3.8.5"
  }
 },
 "nbformat": 4,
 "nbformat_minor": 4
}
