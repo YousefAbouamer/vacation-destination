{
 "cells": [
  {
   "cell_type": "code",
   "execution_count": 58,
   "metadata": {},
   "outputs": [],
   "source": [
    "import requests\n",
    "import json\n",
    "import nltk\n",
    "from nltk import wordpunct_tokenize\n",
    "from nltk.stem import PorterStemmer\n",
    "from nltk.corpus import stopwords\n",
    "import pandas as pd\n",
    "import numpy as np"
   ]
  },
  {
   "cell_type": "code",
   "execution_count": 59,
   "metadata": {},
   "outputs": [
    {
     "name": "stderr",
     "output_type": "stream",
     "text": [
      "[nltk_data] Downloading package stopwords to\n",
      "[nltk_data]     C:\\Users\\ajita\\AppData\\Roaming\\nltk_data...\n",
      "[nltk_data]   Package stopwords is already up-to-date!\n"
     ]
    },
    {
     "data": {
      "text/plain": [
       "True"
      ]
     },
     "execution_count": 59,
     "metadata": {},
     "output_type": "execute_result"
    }
   ],
   "source": [
    "# if stopwords fails make sure it's been downloaded\n",
    "nltk.download('stopwords')"
   ]
  },
  {
   "cell_type": "code",
   "execution_count": 60,
   "metadata": {},
   "outputs": [],
   "source": [
    "def tokenize_str(string, tok_method, stemmer, stops):\n",
    "    toks = tok_method(string)\n",
    "    toks = [w for w in toks if w not in stops]\n",
    "    toks = [stemmer.stem(w) for w in toks]\n",
    "    toks = [w.lower() for w in toks if w.isalpha()]\n",
    "    return toks"
   ]
  },
  {
   "cell_type": "code",
   "execution_count": 61,
   "metadata": {},
   "outputs": [],
   "source": [
    "def city_word_indices(df, tok_method, stemmer, stops):\n",
    "    desc = df['Description']\n",
    "    all_toks = set()\n",
    "    n_rows = len(desc)\n",
    "    city_word_dic = {}\n",
    "    for i in range(n_rows):\n",
    "        toks = tokenize_str(desc[i], wordpunct_tokenize, stemmer, stops)\n",
    "        tokset = toks\n",
    "        all_toks = all_toks.union(tokset)\n",
    "        city_word_dic[df['City'][i]] = toks\n",
    "    all_toks = list(all_toks)\n",
    "    all_toks.sort()\n",
    "    cities = df['City'].tolist()\n",
    "    cities.sort()\n",
    "    city_index = dict(zip(cities, list(range(n_rows))))\n",
    "    city_rev_index = dict(zip(list(range(n_rows)), cities))\n",
    "    word_index = dict(zip(all_toks, list(range(len(all_toks)))))\n",
    "    \n",
    "    return city_index, city_rev_index, word_index"
   ]
  },
  {
   "cell_type": "code",
   "execution_count": 62,
   "metadata": {},
   "outputs": [],
   "source": [
    "# construct term-doc matrix\n",
    "def td_matrix(df, city_index, city_rev_index, word_index, \n",
    "              num_cities=len(city_index), num_words=len(word_index)):\n",
    "    td_matrix = np.zeros(shape=(num_cities, num_words))\n",
    "    cities = df['City'].tolist()\n",
    "    for city in cities:\n",
    "        for word in city_word_dic[city]:\n",
    "            td_matrix[city_index[city]][word_index[word]] += 1\n",
    "    td_matrix = (td_matrix.T / np.linalg.norm(td_matrix, axis=1)).T\n",
    "    return td_matrix"
   ]
  },
  {
   "cell_type": "code",
   "execution_count": 63,
   "metadata": {},
   "outputs": [],
   "source": [
    "def process_query(query, td_matrix, city_rev_index, tok_method, stemmer, stops, num_results=2):\n",
    "    query = tokenize_str(query, tok_method, stemmer, stops)\n",
    "    qvec = np.zeros(num_words)\n",
    "    for word in query:\n",
    "        if word in word_index:\n",
    "            qvec[word_index[word]] += 1\n",
    "    qvec = qvec / np.linalg.norm(qvec)\n",
    "    sim = td_mat @ qvec\n",
    "    top_k = (-sim).argsort()[:num_results]\n",
    "    top_k = [city_rev_index[k] for k in top_k]\n",
    "    return top_k "
   ]
  },
  {
   "cell_type": "code",
   "execution_count": 73,
   "metadata": {},
   "outputs": [
    {
     "name": "stdout",
     "output_type": "stream",
     "text": [
      "Type a query: coast\n",
      "Your ranked destinations:\n",
      "San Jose\n",
      "Miami\n"
     ]
    }
   ],
   "source": [
    "# metadata\n",
    "query = input(\"Type a query: \")\n",
    "df = pd.read_csv('api_data.csv', names=['City', 'Description'])\n",
    "stops = set(stopwords.words('english'))\n",
    "ps = PorterStemmer()\n",
    "\n",
    "# driver code\n",
    "city_index, city_rev_index, word_index = city_word_indices(df, wordpunct_tokenize, ps, stops)\n",
    "td_mat = td_matrix(df, city_index, city_rev_index, word_index)\n",
    "top_2 = process_query(query, td_mat, city_rev_index, wordpunct_tokenize, ps, stops)\n",
    "print(\"Your ranked destinations:\")\n",
    "for i in top_2:\n",
    "    print(i)"
   ]
  },
  {
   "cell_type": "code",
   "execution_count": null,
   "metadata": {},
   "outputs": [],
   "source": []
  }
 ],
 "metadata": {
  "kernelspec": {
   "display_name": "Python 3",
   "language": "python",
   "name": "python3"
  },
  "language_info": {
   "codemirror_mode": {
    "name": "ipython",
    "version": 3
   },
   "file_extension": ".py",
   "mimetype": "text/x-python",
   "name": "python",
   "nbconvert_exporter": "python",
   "pygments_lexer": "ipython3",
   "version": "3.8.5"
  }
 },
 "nbformat": 4,
 "nbformat_minor": 4
}
